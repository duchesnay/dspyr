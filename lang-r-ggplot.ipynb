{
 "cells": [
  {
   "cell_type": "markdown",
   "metadata": {},
   "source": [
    "# Gestion des graphiques avec R\n",
    "\n",
    "R offers two main graphical systems: `base`  and `grid`. The latter is exposed in two core packages: `lattice` and `ggplot2`. We will use the later, which relies on the idea of a \"Grammar of Graphics\"."
   ]
  },
  {
   "cell_type": "code",
   "execution_count": null,
   "metadata": {},
   "outputs": [],
   "source": [
    "suppressPackageStartupMessages(library(ggplot2))\n",
    "theme_set(theme_bw())"
   ]
  },
  {
   "cell_type": "markdown",
   "metadata": {},
   "source": [
    "The above instructions allow to load the required package and to set a default theme. They are meant to be run only once, when R is started for the current session. However, it is still possible to change the theme at any time, or inline when building a custom graphical display.\n",
    "\n",
    "Let's look at a random sample of the GSOEP dataset available in `data/gsoep09.dta`. This is a Stata file built upon the [German Socio Economic Survey](https://www.eui.eu/Research/Library/ResearchGuides/Economics/Statistics/DataPortal/GSOEP) from 2009. Note that these data come with survey weights (`dweight` and `xweights`) but we will proceed as if it was a cross-sectional sample. The `foreign` package allows to read Stata files (up to Stata 12 version), but it is more convenient to use the `haven` package. The `read_dta` function will return a \"tibble\", which is like an ordinary data frame but with extra properties that we won't exploit in this tutorial."
   ]
  },
  {
   "cell_type": "code",
   "execution_count": null,
   "metadata": {},
   "outputs": [],
   "source": [
    "library(haven)\n",
    "d <- read_dta(\"data/gsoep09.dta\")\n",
    "head(d)"
   ]
  },
  {
   "cell_type": "markdown",
   "metadata": {},
   "source": [
    "## Data preprocessing\n",
    "\n",
    "We will first subset the data frame by selecting only a dozen of variables, and then draw a random sample of 10% of the original dataset. Specifically, the variables we are interested in are described below:\n",
    "\n",
    "- `persnr`: respondant ID\n",
    "- `hhnr2009`: household ID\n",
    "- `ybirth`: year of birth\n",
    "- `sex`: sex of respondant\n",
    "- `mar`: marital status\n",
    "- `egp`: socio-economic class\n",
    "- `yedu`: no. years of education\n",
    "- `income`: annual income (€)\n",
    "- `rel2head`: position of respondant relative to household \n",
    "- `wor01` to `wor12`: 3-point Likert answers to socio-economic and political questions"
   ]
  },
  {
   "cell_type": "code",
   "execution_count": null,
   "metadata": {},
   "outputs": [],
   "source": [
    "vars <- c(\"persnr\", \"hhnr2009\", \"ybirth\", \"sex\", \"mar\", \"egp\", \"yedu\", \"income\", \"rel2head\", \n",
    "          \"wor01\", \"wor02\", \"wor03\", \"wor04\", \"wor05\", \"wor06\", \"wor07\", \"wor08\", \"wor09\", \"wor10\", \"wor11\", \"wor12\")\n",
    "set.seed(101)\n",
    "idx <- sample(1:nrow(d), floor(nrow(d)*.1))\n",
    "d <- subset(d[idx, ], select = vars)\n",
    "dim(d)"
   ]
  },
  {
   "cell_type": "markdown",
   "metadata": {},
   "source": [
    "The next step consists in re-encoding categorical variables and computing auxiliary variables:"
   ]
  },
  {
   "cell_type": "code",
   "execution_count": null,
   "metadata": {},
   "outputs": [],
   "source": [
    "d$persnr <- factor(d$persnr)\n",
    "d$hhnr2009 <- factor(d$hhnr2009)\n",
    "d$sex <- droplevels(as_factor(d$sex))\n",
    "d$mar <- droplevels(as_factor(d$mar))\n",
    "d$egp <- droplevels(as_factor(d$egp))\n",
    "d$rel2head <- droplevels(as_factor(d$rel2head))\n",
    "d$age <- 2009 - d$ybirth"
   ]
  },
  {
   "cell_type": "markdown",
   "metadata": {},
   "source": [
    "Let us now look at the above variables, and recode some of `mar` and `egp` categories: (For simplicity, we will discard all refusals from the present dataset.)"
   ]
  },
  {
   "cell_type": "code",
   "execution_count": null,
   "metadata": {},
   "outputs": [],
   "source": [
    "table(d$mar)\n",
    "levels(d$mar)[3:5] <- \"Single\"\n",
    "d$mar[d$mar == \"Refusal\"] <- NA\n",
    "d$mar <- droplevels(d$mar)\n",
    "table(d$mar)"
   ]
  },
  {
   "cell_type": "code",
   "execution_count": null,
   "metadata": {},
   "outputs": [],
   "source": [
    "table(d$egp)\n",
    "levels(d$egp)[1:2] <- \"High\"\n",
    "levels(d$egp)[2:4] <- \"Mid\"\n",
    "levels(d$egp)[3:4] <- \"Low\"\n",
    "levels(d$egp)[4:6] <- \"None\"\n",
    "d$egp[d$egp == \"Refusal\"] <- NA\n",
    "d$egp <- droplevels(d$egp)\n",
    "table(d$egp)"
   ]
  },
  {
   "cell_type": "markdown",
   "metadata": {},
   "source": [
    "Finally, let us only keep individuals with available income, and no missing value on `mar` or `egp`:"
   ]
  },
  {
   "cell_type": "code",
   "execution_count": null,
   "metadata": {},
   "outputs": [],
   "source": [
    "d <- subset(d, income > 0 & !is.na(mar) & !is.na(egp))\n",
    "d$logincome <- log(d$income)\n",
    "dim(d)"
   ]
  },
  {
   "cell_type": "markdown",
   "metadata": {},
   "source": [
    "## The GGplot2 philosophy\n",
    "\n",
    "In the spirit of the *Grammar of Graphics* developped by Leland Wilkinson, the `ggplot2` library uses a system of layers where graphical elements are joined altogether in a coherent way.\n",
    "\n",
    "![](assets/lang-r-ggplot-001.png)\n",
    "\n",
    "The following elements are usually found, in more or less the following order:\n",
    "\n",
    "- `ggplot()`: a data frame (`data=`) together with a mapping (`aes()`)\n",
    "- `geom_*()`: one or more geometrical objects\n",
    "- `facet_wrap()`: a system of facets (used for conditioning on additional variables)\n",
    "- `scale_*_*()`: a custom scale for each axis and color schemes\n",
    "- `coord_*()`: a coordinate system\n",
    "- `labs()`: some annotations for axes and other graphical properties\n",
    "- `theme_*()`: a custom theme\n",
    "\n",
    "Basically, we start by indicating the data frame in which the variables can be found (`data =`), and what role these variables play in the plot (`aes(x=, y=, color=)`). Two numerical variables can be used to code the spatial location of a point in a 2D space, while a categorical variable could be used to highligtht those points using color values mapped onto variable levels. The type of graphical object we wan to draw (`geom_point()`, `geom_histogram()`) depends on the number and the type of variables available in the `aes()` mapping. If there's only one numeric variable, we cannot draw a scatterplot, of course, but we can build an histogram, for example. Note that a single plot can contain multiple geometrical object, e.g. a scatterplot and a scatterplot smoother (lowess curve). Each plot can be customized in several ways, but most of the time we may be interested in updating the axes or the object properties (e.g., `scale_x_continuous()`, `scale_color_manual()`), and the labels or the title/subtitle (`labs()`).\n",
    "\n",
    "The most up to date documentation is available on-line: Winston Chang, *[R Graphics Cookbook](https://r-graphics.org)* (2nd ed.)."
   ]
  },
  {
   "cell_type": "markdown",
   "metadata": {},
   "source": [
    "### Illustration of the layered approach"
   ]
  },
  {
   "cell_type": "markdown",
   "metadata": {},
   "source": [
    "A very basic plot can be thought of as a succession of layers. In the example below, we first draw a scatterplot using variable `lwt` (aon the x-axis) and `bwt` (on the y-axis) from the `MASS::birthwt` dataset, and then add a scatterplot smoother (a lowess curve, with default smoothing parameters) on top of the scatterplot:"
   ]
  },
  {
   "cell_type": "code",
   "execution_count": null,
   "metadata": {},
   "outputs": [],
   "source": [
    "p <- ggplot() +\n",
    "    layer(data = MASS::birthwt,\n",
    "          stat = \"identity\",\n",
    "          geom = \"point\",\n",
    "          mapping = aes(x = lwt, y = bwt),\n",
    "          position = \"identity\") +\n",
    "    layer(data = MASS::birthwt,\n",
    "          stat = \"smooth\",\n",
    "          geom = \"line\",\n",
    "          mapping = aes(x = lwt, y = bwt),\n",
    "          position = \"identity\",\n",
    "          params = list(method = \"auto\"))"
   ]
  },
  {
   "cell_type": "markdown",
   "metadata": {},
   "source": [
    "Here is the simplified version using the approach described above:"
   ]
  },
  {
   "cell_type": "code",
   "execution_count": null,
   "metadata": {},
   "outputs": [],
   "source": [
    "library(MASS)\n",
    "p <- ggplot(data = birthwt, aes(x = lwt, y = bwt))\n",
    "p + geom_point() + geom_smooth(method = \"auto\")"
   ]
  },
  {
   "cell_type": "markdown",
   "metadata": {},
   "source": [
    "This follows the same principled approach: You add each graphical piece together using the `+` operateur -- which is specific to `ggplot2` -- and you print the final graphical object to the graphical device. This is the reason why we don't use any assignment operateur (`<-`) in the last expression. It would be possible to write the following expression:\n",
    "\n",
    "    ggplot(data = birthwt, aes(x = lwt, y = bwt)) + geom_point() + geom_smooth(method = \"auto\")\n",
    "    \n",
    "However, it is better practice to save the graphical commands in a variable, and even to accumulate (`+`) the instructions as they go along since this allows to build the final plot in an incremental way."
   ]
  },
  {
   "cell_type": "markdown",
   "metadata": {},
   "source": [
    "## Exploratory analysis"
   ]
  },
  {
   "cell_type": "markdown",
   "metadata": {},
   "source": [
    "### Histogram and density estimators"
   ]
  },
  {
   "cell_type": "markdown",
   "metadata": {},
   "source": [
    "Histogram and density curve are two common estimators for the distribution of a continuous random variable. They do indeed have their counterparts in `ggplot2`, namely `geom_histogram()` and `geom_density()`, although in the latter case it is also possible to use `geom_line` using the a density estimator that `ggplot2` will copute for us. Here are two examples of use:"
   ]
  },
  {
   "cell_type": "code",
   "execution_count": null,
   "metadata": {},
   "outputs": [],
   "source": [
    "p <- ggplot(data = d, aes(x = age)) +\n",
    "  geom_histogram(binwidth = 5) +\n",
    "  labs(x = \"Age\", y = \"Counts\")\n",
    "p"
   ]
  },
  {
   "cell_type": "code",
   "execution_count": null,
   "metadata": {},
   "outputs": [],
   "source": [
    "p <- ggplot(data = d, aes(x = age)) +\n",
    "  geom_line(stat = \"density\") +\n",
    "  labs(x = \"Age\", y = \"Density\")\n",
    "p"
   ]
  },
  {
   "cell_type": "markdown",
   "metadata": {},
   "source": [
    "The syntax is almost identical in both case, pending the options specific to each geometrical object: In the case of `geom_histogram`, it is possible to indicate the size (`binwidth=`) or the number (`bins=`) of intervals to use when discretizing the continuous variable `x`; with the density estimator, we can specify the size of the smoothing window (`bw=` or `adjust=`) and/or the kernel (`kernel=`)."
   ]
  },
  {
   "cell_type": "markdown",
   "metadata": {},
   "source": [
    "### Boxplots"
   ]
  },
  {
   "cell_type": "markdown",
   "metadata": {},
   "source": [
    "Boxplots can be used to visually depict the output of the `summary` function, that is a five-number summary of the distribution of a numerical variable (location, shape and range). It is most useful when there are several distributions to plot side by side, hence the use of `x=` and `y=` in the mapping below:"
   ]
  },
  {
   "cell_type": "code",
   "execution_count": null,
   "metadata": {},
   "outputs": [],
   "source": [
    "p <- ggplot(data = d, aes(x = mar, y = logincome)) +\n",
    "  geom_boxplot() +\n",
    "  labs(x = \"Marital Status\", y = \"Annual Income (log)\") +\n",
    "  coord_flip()\n",
    "p"
   ]
  },
  {
   "cell_type": "markdown",
   "metadata": {},
   "source": [
    "### Barplots"
   ]
  },
  {
   "cell_type": "markdown",
   "metadata": {},
   "source": [
    "Let us summarize the distribution of average (log) income across socio-economic classes. First, we need to compute the mean and standard deviation of `logincome` for each level of `egp`. This is easily performed using `aggregate` (or `tapply`):"
   ]
  },
  {
   "cell_type": "code",
   "execution_count": null,
   "metadata": {},
   "outputs": [],
   "source": [
    "egp_stats <- aggregate(logincome ~ egp, data = d, mean)\n",
    "egp_stats$sd <- aggregate(logincome ~ egp, data = d, sd)$logincome\n",
    "names(egp_stats)[2] <- \"mean\"\n",
    "egp_stats"
   ]
  },
  {
   "cell_type": "markdown",
   "metadata": {},
   "source": [
    "Unfortunately, `aggregate` returns a data frame with only one column for the computed results (named after the variable that appears in the LHS), no matter if the function returns a single valued vector or multivariate vectors. Hence, we are forced to extract the result computed with the second call to `aggregate` and append it as a distinct column. It is then possible to use a combination of `geom_bar` and `geom_errorbar` to produce the desired result:"
   ]
  },
  {
   "cell_type": "code",
   "execution_count": null,
   "metadata": {},
   "outputs": [],
   "source": [
    "p <- ggplot(data = egp_stats, aes(x = egp, y = mean)) +\n",
    "  geom_bar(stat = \"identity\") +\n",
    "  geom_errorbar(aes(ymin = mean - sd, ymax = mean + sd), width = .2, col = \"black\") +\n",
    "  labs(x = \"Socio-Economic Status\", y = \"Average income (log)\")\n",
    "p"
   ]
  },
  {
   "cell_type": "markdown",
   "metadata": {},
   "source": [
    "Here is another example using two variables in the RHS, `egp` and `sex`:"
   ]
  },
  {
   "cell_type": "code",
   "execution_count": null,
   "metadata": {},
   "outputs": [],
   "source": [
    "egp_stats <- aggregate(logincome ~ egp + sex, data = d, mean)\n",
    "egp_stats$sd <- aggregate(logincome ~ egp + sex, data = d, sd)$logincome\n",
    "names(egp_stats)[3] <- \"mean\""
   ]
  },
  {
   "cell_type": "code",
   "execution_count": null,
   "metadata": {},
   "outputs": [],
   "source": [
    "p <- ggplot(data = egp_stats, aes(x = egp, y = mean, fill = sex)) +\n",
    "  geom_bar(stat = \"identity\", position = position_dodge()) +\n",
    "  geom_errorbar(aes(ymin = mean - sd, ymax = mean + sd), width = .2, col = \"black\", position = position_dodge(.9)) +\n",
    "  scale_fill_manual(\"\", values = c(\"cornflowerblue\", \"darkorange\")) +\n",
    "  labs(x = \"Socio-Economic Status\", y = \"Average income (log)\")\n",
    "p"
   ]
  },
  {
   "cell_type": "markdown",
   "metadata": {},
   "source": [
    "### Scatterplots"
   ]
  },
  {
   "cell_type": "markdown",
   "metadata": {},
   "source": [
    "Scatterplot are a common way to display the joint variation of two series of observations, specified as `x=` and `y=` coordinates in a 2D plan. A scatterplot smoother, e.g. a lowess (or loess) curve, can be superimposed on the scatterplot to help in gauging local deviation to the linear relationship assumption commonly found in linear regression. In addition to the `x` and `y` variables, it is also possible to ask `ggplot2` to highlight point using a color that depends on the level of a third categorical variable. This is controlled in the `aes`thetic directly. When we are not happy with the default color scheme, we can provide our own values (RGB, HEX or named colors) using a \"manual\" scale, which targets an existing aesthetic. Finally, `facet_grid()` or `facet_warp()` can be used to build a treillis graphic, meaning that the overall plot is subsetted according to the facet defined in this specific instruction. Here is a full working example in action:"
   ]
  },
  {
   "cell_type": "code",
   "execution_count": null,
   "metadata": {},
   "outputs": [],
   "source": [
    "p <- ggplot(data = subset(d, egp != \"None\"), aes(x = age, y = logincome, color = sex)) +\n",
    "  geom_point(alpha = 0.5) +\n",
    "  geom_smooth(method = \"loess\", se = FALSE, span = 1.5) +\n",
    "  scale_color_manual(\"\", values = c(\"cornflowerblue\", \"darkorange\")) +\n",
    "  facet_grid(mar ~ egp) +\n",
    "  labs(x = \"Age\", y = \"Average income (log)\")\n",
    "p"
   ]
  }
 ],
 "metadata": {
  "kernelspec": {
   "display_name": "R",
   "language": "R",
   "name": "ir"
  },
  "language_info": {
   "codemirror_mode": "r",
   "file_extension": ".r",
   "mimetype": "text/x-r-source",
   "name": "R",
   "pygments_lexer": "r",
   "version": "3.6.0"
  }
 },
 "nbformat": 4,
 "nbformat_minor": 2
}
