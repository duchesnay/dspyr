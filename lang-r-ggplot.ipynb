{
 "cells": [
  {
   "cell_type": "markdown",
   "metadata": {},
   "source": [
    "# Gestion des graphiques avec R\n",
    "\n",
    "R offers two main graphical systems: `base`  and `grid`. The latter is exposed in two core packages: `lattice` and `ggplot2`. We will use the later, which relies on the idea of a \"Grammar of Graphics\"."
   ]
  },
  {
   "cell_type": "code",
   "execution_count": null,
   "metadata": {},
   "outputs": [],
   "source": [
    "library(ggplot2)\n",
    "theme_set(theme_bw())"
   ]
  },
  {
   "cell_type": "markdown",
   "metadata": {},
   "source": [
    "The above instructions allow to load the required package and to set a defualt theme. There are meant to be run only once, when the R session is started. However, it is still possible to change the theme at any time, or inline when building a custom graphical display.\n",
    "\n",
    "Let's look at a random sample of the GSOEP dataset described in the handout \"lang-r-base\". Recall that this is a Stata file built upon the [German Socio Economic Survey](https://www.eui.eu/Research/Library/ResearchGuides/Economics/Statistics/DataPortal/GSOEP) from 2009."
   ]
  },
  {
   "cell_type": "code",
   "execution_count": null,
   "metadata": {},
   "outputs": [],
   "source": [
    "library(haven)\n",
    "d <- read_dta(\"data/gsoep09.dta\")\n",
    "head(d)"
   ]
  },
  {
   "cell_type": "markdown",
   "metadata": {},
   "source": [
    "## Data preprocessing\n",
    "\n",
    "We will first subset the data frame by selecting only a dozen of variables variables, and then draw a random sample of 10% of the original dataset:"
   ]
  },
  {
   "cell_type": "code",
   "execution_count": null,
   "metadata": {},
   "outputs": [],
   "source": [
    "vars <- c(\"persnr\", \"hhnr2009\", \"ybirth\", \"sex\", \"mar\", \"egp\", \"yedu\", \"income\", \"rel2head\", \n",
    "          \"wor01\", \"wor02\", \"wor03\", \"wor04\", \"wor05\", \"wor06\", \"wor07\", \"wor08\", \"wor09\", \"wor10\", \"wor11\", \"wor12\")\n",
    "set.seed(101)\n",
    "idx <- sample(1:nrow(d), floor(nrow(d)*.1))\n",
    "d <- subset(d[idx, ], select = vars)\n",
    "dim(d)"
   ]
  },
  {
   "cell_type": "markdown",
   "metadata": {},
   "source": [
    "The next step consists in reencoding categorical variables and computing auxiliary variables:"
   ]
  },
  {
   "cell_type": "code",
   "execution_count": null,
   "metadata": {},
   "outputs": [],
   "source": [
    "d$persnr <- factor(d$persnr)\n",
    "d$hhnr2009 <- factor(d$hhnr2009)\n",
    "d$sex <- droplevels(as_factor(d$sex))\n",
    "d$mar <- droplevels(as_factor(d$mar))\n",
    "d$egp <- droplevels(as_factor(d$egp))\n",
    "d$rel2head <- droplevels(as_factor(d$rel2head))\n",
    "d$age <- 2009 - d$ybirth"
   ]
  },
  {
   "cell_type": "code",
   "execution_count": null,
   "metadata": {},
   "outputs": [],
   "source": []
  }
 ],
 "metadata": {
  "kernelspec": {
   "display_name": "R",
   "language": "R",
   "name": "ir"
  },
  "language_info": {
   "codemirror_mode": "r",
   "file_extension": ".r",
   "mimetype": "text/x-r-source",
   "name": "R",
   "pygments_lexer": "r",
   "version": "3.6.0"
  }
 },
 "nbformat": 4,
 "nbformat_minor": 2
}
