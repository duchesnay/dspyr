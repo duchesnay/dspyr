{
 "cells": [
  {
   "cell_type": "markdown",
   "metadata": {},
   "source": [
    "# Introduction to R\n",
    "\n",
    "This introduction to the R language aims at understanding how to represent and manipulate data objects as commonly found in *data science*, to provide basic summary statistic and to build relevant graphical representation of the data. \n",
    "\n",
    "**Important notice:** Only base commands are discussed here, not the [tidyverse](https://www.tidyverse.org). A separate cheatsheet is available for the `ggplot2` package (TODO).\n",
    "\n",
    "## Installing R and RStudio\n",
    "\n",
    "The R statistical package can be installed from [CRAN](https://cran.r-project.org). Be sure to also download [RStudio](https://www.rstudio.com) as it provided a full-featured user interface to interact with R. To use Jupyter notebook, you will also need the [IR kernel](https://irkernel.github.io).\n",
    "\n",
    "## Useful additional packages\n",
    "\n",
    "This tutorial mainly relies on core facilities that come along so called R [base packages](https://stackoverflow.com/a/9705725). However, it is possible to install additional packages and, in particular, the [ggplot2](https://ggplot2.tidyverse.org) package, as shown below:\n",
    "\n",
    "    install.packages(\"ggplot2\")\n",
    "\n",
    "## Setup\n",
    "\n",
    "The following setup will be used for graphical displays:"
   ]
  },
  {
   "cell_type": "code",
   "execution_count": null,
   "metadata": {},
   "outputs": [],
   "source": [
    "library(ggplot2)\n",
    "theme_set(theme_minimal())"
   ]
  },
  {
   "cell_type": "markdown",
   "metadata": {},
   "source": [
    "Note that you need to load the `ggplot2` package only once, at the start of your R session."
   ]
  },
  {
   "cell_type": "markdown",
   "metadata": {},
   "source": [
    "## Getting started\n",
    "\n",
    "### Variables\n",
    "\n",
    "There are fundamentally two kind of data structures in statistics-oriented programming languages: numbers and strings. Numbers can be integers or real numbers and they are used to represent values observed for a continuous or discrete statistical variable, while strings are everything else that cannot be represented as numbers or list of numbers, e.g. address of a building, answer to an open-ended question in a survey, etc.\n",
    "\n",
    "Here is how we can create a simple variable, say `x`, to store a list of 5 numerical values:"
   ]
  },
  {
   "cell_type": "code",
   "execution_count": null,
   "metadata": {},
   "outputs": [],
   "source": [
    "x <- c(1, 3, 2, 5, 4)"
   ]
  },
  {
   "cell_type": "markdown",
   "metadata": {},
   "source": [
    "Note that the symbol `<-` stands for the recommended assignment operator, yet it is possible to use `=` to assign some quantity to a given variable, which appears on the left hand side of the above expression. Also, the series of values is reported between round brackets, and each values is separated by a comma. From now on, we will talk interchangeably of values or of observations as if we were talking of a measure collected on a statistical unit.\n",
    "\n",
    "Some properties of this newly created variable can be queried online, e.g. how many elements does `x` has or how those elements are represneted in R:"
   ]
  },
  {
   "cell_type": "code",
   "execution_count": null,
   "metadata": {},
   "outputs": [],
   "source": [
    "length(x)\n",
    "typeof(x)"
   ]
  },
  {
   "cell_type": "markdown",
   "metadata": {},
   "source": [
    "It should be noted that `x` contains values stored as real numbers (`double`) while they may just be stored as integers. It is however possible to ask R to use truly integer values:"
   ]
  },
  {
   "cell_type": "code",
   "execution_count": null,
   "metadata": {},
   "outputs": [],
   "source": [
    "x <- c(1L, 3L, 2L, 5L, 4L)\n",
    "typeof(x)"
   ]
  },
  {
   "cell_type": "markdown",
   "metadata": {},
   "source": [
    "The distinction between 32 bits integers and reals will not be that important in common analysis tasks, but it is important to keep in mind that it is sometimes useful to check whether data are represented as expected, especially in the case of categorical variables, also called 'factor' in R parlance (more on this latter).\n",
    "\n",
    "The list of numbers we stored in `x` is called a *vector*, and it is one of the building block of common R data structures. Oftentimes, we will need richer data structures, especially two-dimensional objects, like *matrix* or *data frame*, or higher-dimensional objects such as *array* or *list*.\n",
    "\n",
    "![](assets/lang-r-base-001.png)"
   ]
  },
  {
   "cell_type": "markdown",
   "metadata": {},
   "source": [
    "### Vectors\n",
    "\n",
    "The command `c` ('concatenate') we used to create our list of integers will be very useful when it comes to pass multiple options to a command. It can be nested into another call to `c` like in the following exemple:"
   ]
  },
  {
   "cell_type": "code",
   "execution_count": null,
   "metadata": {},
   "outputs": [],
   "source": [
    "x <- c(c(1, 2, 3), c(4, 5, 6), 7, 8)"
   ]
  },
  {
   "cell_type": "markdown",
   "metadata": {},
   "source": [
    "In passing, note that since we use the same name for our newly created variable, `x`, the old content referenced in `x` (1, 3, 2, 5, 4) is definitively lost. Once you have a vector of values, you can access each item by providing the (one-based) index of the item(s), e.g.:"
   ]
  },
  {
   "cell_type": "code",
   "execution_count": null,
   "metadata": {},
   "outputs": [],
   "source": [
    "x[1]\n",
    "x[3]\n",
    "x[c(1,3)]\n",
    "x[1:3]"
   ]
  },
  {
   "cell_type": "markdown",
   "metadata": {},
   "source": [
    "A convenient shorhand notation for regular sequence of integers is `start:end`, where `start` is the starting value and `end` is the last value (both included). Hence, `c(1,2,3,4)` is the same as `1:4`. This is useful when one wants to preview the first 3 or 5 values in a vector, for example. A more general function to work with regular sequence of numbers is `seq`. Here is an example of use:"
   ]
  },
  {
   "cell_type": "code",
   "execution_count": null,
   "metadata": {},
   "outputs": [],
   "source": [
    "seq(1, 10)\n",
    "seq(1, 10, by = 2)\n",
    "seq(0, 10, length = 5)"
   ]
  },
  {
   "cell_type": "markdown",
   "metadata": {},
   "source": [
    "Updating content of a vector can be done directly by assigning a new value to one of the item:"
   ]
  },
  {
   "cell_type": "code",
   "execution_count": null,
   "metadata": {},
   "outputs": [],
   "source": [
    "x[3] <- NA"
   ]
  },
  {
   "cell_type": "markdown",
   "metadata": {},
   "source": [
    "In the above statement, the third item has been assigned a missing value, which is coded as `NA` ('not available') in R. Again, there is no way to go back to the previous state of the variable, so be careful when updating the content of a variable.\n",
    "\n",
    "The presence of missing data is important to check before engaging into any serious statistical stuff. The `is.na` function can be used to check for the presence of any missing value in a variable, while `which` will return the index that matches a `TRUE` result, if any:"
   ]
  },
  {
   "cell_type": "code",
   "execution_count": null,
   "metadata": {},
   "outputs": [],
   "source": [
    "is.na(x)\n",
    "which(is.na(x))"
   ]
  },
  {
   "cell_type": "markdown",
   "metadata": {},
   "source": [
    "Notice that many functions like `is.na`, or `which`, act in a vectorized way, meaning that you don't have to iterate manually over each item in the vector. Moreover, function calls can be nested one into the other. In the latter R expression, `which` is actually processing the values returned by the call to `is.na`."
   ]
  },
  {
   "cell_type": "markdown",
   "metadata": {},
   "source": [
    "### Vectors and random sampling\n",
    "\n",
    "The `sample` function allows to randomly shuffle an existing vector or to generate a sequence of random numbers. Whenever we rely on the random number generator (RNG), it is recommend to set the seed of the RNG in order to ensure that those pseudo-random sequence could be reproduced later. Here is an illustration:"
   ]
  },
  {
   "cell_type": "code",
   "execution_count": null,
   "metadata": {},
   "outputs": [],
   "source": [
    "s <- c(1, 4, 2, 3, 8)\n",
    "sample(s)"
   ]
  },
  {
   "cell_type": "code",
   "execution_count": null,
   "metadata": {},
   "outputs": [],
   "source": [
    "sample(1:10, size = 5)\n",
    "sample(0:1, size = 10, replace = TRUE)"
   ]
  },
  {
   "cell_type": "markdown",
   "metadata": {},
   "source": [
    "In summary, `sample(1:n, size = n)` returns a permutation of the `n` elements, while `sample(1:n, size = n, replace = TRUE)` provides a bootstrap sample of the original data."
   ]
  },
  {
   "cell_type": "markdown",
   "metadata": {},
   "source": [
    "### Sorting\n",
    "\n",
    "Sorting a list of values or finding the index or rank of any value in a vector are common tasks in statistical programming. It is different from computing ranks of observed values, which is handled by the `rank` function. The two main instructions to sort a list of values and to get the index of the sorted item are `sort` and `order`, respectively:"
   ]
  },
  {
   "cell_type": "code",
   "execution_count": null,
   "metadata": {},
   "outputs": [],
   "source": [
    "z <- c(1, 6, 7, 2, 8, 3, 9, 4, 5)\n",
    "sort(z)\n",
    "order(z)"
   ]
  },
  {
   "cell_type": "markdown",
   "metadata": {},
   "source": [
    "### Data frames\n",
    "\n",
    "Data frames are one of the core data structures to store and represent statistical data. Many routine functions that are used to load data stored in flat files or databases or to preprocess data stored in memory rely on data frames. Likewise, graphical commands such as those found in the `ggplot2` package generally assumes a data frame as input. The same applies to functions used in statistical modeling (`lm`, `glm`, etc.).\n",
    "\n",
    "In a data frame, observations are arranged in rows and variables are arranged in columns. Each variable can be viewed as a single vector, but those variables are all recorded into a common data structure, each with an unique name. Moreover, each column, or variable, can be of a different type--numeric, factor, character or boolean, which makes data frame slightly different from 'matrix' object where only values of the same type can be stored.\n",
    "\n",
    "Here is an example of a built-in data frame, readily available by using the command `data`:"
   ]
  },
  {
   "cell_type": "code",
   "execution_count": null,
   "metadata": {},
   "outputs": [],
   "source": [
    "data(ToothGrowth)\n",
    "head(ToothGrowth)"
   ]
  },
  {
   "cell_type": "code",
   "execution_count": null,
   "metadata": {},
   "outputs": [],
   "source": [
    "str(ToothGrowth)"
   ]
  },
  {
   "cell_type": "markdown",
   "metadata": {},
   "source": [
    "While `head` allows to preview the first 6 lines of a data frame, `str` provides a concise overview of what's available in the data frame, namely: the name of each variable (column), its mode of representation, et the first 10 observations (values).\n",
    "\n",
    "The dimensions (number of lines and columns) of a data frame can be verified using `dim` (a shortcut for the combination of `nrows` and `ncols`): "
   ]
  },
  {
   "cell_type": "code",
   "execution_count": null,
   "metadata": {},
   "outputs": [],
   "source": [
    "dim(ToothGrowth)"
   ]
  },
  {
   "cell_type": "markdown",
   "metadata": {},
   "source": [
    "To access any given cell in this data frame, we will use the indexing trick we used in the case of vectors, but this time we have to indicate the line number as well as the column number, or name: Hence, `ToothGrowth[i,j]` means the value located at line `i` and column `j`, while `ToothGrowth[c(a,b),j]` would mean values at line `a` and `b` for the same column `j`.\n",
    "\n",
    "![](assets/lang-r-base-002.png)\n",
    "\n",
    "Here is how we can retrieve the second observation in the first column:"
   ]
  },
  {
   "cell_type": "code",
   "execution_count": null,
   "metadata": {},
   "outputs": [],
   "source": [
    "ToothGrowth[2,1]"
   ]
  },
  {
   "cell_type": "markdown",
   "metadata": {},
   "source": [
    "Since the columns of a data frame have names, it is equivalent to use `ToothGrowth[2,1]` and `ToothGrowth[2,\"len\"]`. In the latter case, variable names must be quoted. Column names can be displayed using `colnames` or `names` (in the special case of data frames), while row names are available *via* `rownames`. Row names can be used as unique identifier for statistical units, but best practice is usually to store unique IDs as characters or factor levels in a dedicated column in the data frame.\n",
    "\n",
    "Since we know that we can use `c` to create a list of numbers, we can use `c` to create a list of line numbers to look for. Imagine you want to access the content of a given column (`len`, which is the first column, numbered 1), for lines 2 and 4: (`c(2, 4)`):\n",
    "\n",
    "![](assets/lang-r-base-003.png)\n",
    "\n",
    "Here is how we would do in R:"
   ]
  },
  {
   "cell_type": "code",
   "execution_count": null,
   "metadata": {},
   "outputs": [],
   "source": [
    "ToothGrowth[c(2,4),1]"
   ]
  },
  {
   "cell_type": "markdown",
   "metadata": {},
   "source": [
    "This amounts to 'indexed selection', meaning that we need to provide the row (or column) numbers, while most of the time we are interested in criterion-based indexation, that is: \"which observation fullfills a given criterion.\" We generally call this a 'filter'. Since most R operations are vectorized, this happens to be really easy. For instance, to display observations on `supp` that satisfy the condition `len > 6`, we would use: "
   ]
  },
  {
   "cell_type": "code",
   "execution_count": null,
   "metadata": {},
   "outputs": [],
   "source": [
    "head(ToothGrowth$supp[ToothGrowth$len > 6])"
   ]
  },
  {
   "cell_type": "markdown",
   "metadata": {},
   "source": [
    "![](assets/lang-r-base-004.png)"
   ]
  },
  {
   "cell_type": "markdown",
   "metadata": {},
   "source": [
    "Likewise, it is possible to combine different filters using logical operators: `&` stands for 'and' (logical conjunction) and `|` stands for 'or' (logical disjonction); logical equality is denoted as `==` while its negation reads `!=`. Here is an example where we want to select observations that satisfy a given condition on both the `dose` (dose = 0.5) and `len` (len > 10) variables:\n",
    "\n",
    "![](assets/lang-r-base-005.png)\n",
    "\n",
    "In R, we would write:"
   ]
  },
  {
   "cell_type": "code",
   "execution_count": null,
   "metadata": {},
   "outputs": [],
   "source": [
    "ToothGrowth[,ToothGrowth$len > 10 & ToothGrowth$dose < 1]"
   ]
  },
  {
   "cell_type": "markdown",
   "metadata": {},
   "source": [
    "You will soon realize that for complex queries this notation become quite cumbersome: all variable must be prefixed by the name of the data frame, which can result in a very long statement. While it is recommended practice for programming or when developing dedicated package, it is easier to rely on `subset` in an interactive session. The `subset` command asks for three arguments, namely the name of the data frame we are working on, the rows we want to select (or filter), and the columns we want to return. The result of a call to `subset` is always a data frame.\n",
    "\n",
    "![](assets/lang-r-base-006.png)\n",
    "\n",
    "Here is an example of use:"
   ]
  },
  {
   "cell_type": "code",
   "execution_count": null,
   "metadata": {},
   "outputs": [],
   "source": [
    "subset(ToothGrowth, len > 10 & dose < 1)"
   ]
  },
  {
   "cell_type": "markdown",
   "metadata": {},
   "source": [
    "![](assets/lang-r-base-007.png)"
   ]
  },
  {
   "cell_type": "markdown",
   "metadata": {},
   "source": [
    "It is also possible to use the technique discussed in the case of vectors to sort a data frame in ascending or descending order according to one or more variables. Here is an example using the `len` variable:"
   ]
  },
  {
   "cell_type": "code",
   "execution_count": null,
   "metadata": {},
   "outputs": [],
   "source": [
    "head(ToothGrowth)\n",
    "head(ToothGrowth[order(ToothGrowth$len),])"
   ]
  },
  {
   "cell_type": "markdown",
   "metadata": {},
   "source": [
    "The `which` function can also be used to retrieve a specific observation in a data frame, like in the following instruction:"
   ]
  },
  {
   "cell_type": "code",
   "execution_count": null,
   "metadata": {},
   "outputs": [],
   "source": [
    "which(ToothGrowth$len < 8)"
   ]
  },
  {
   "cell_type": "markdown",
   "metadata": {},
   "source": [
    "## Statistical summaries\n",
    "\n",
    "As explained above, the `str` function is useful to check a given data structure, and individual properties of a data frame can be queried using dedicated functions, e.g. `nrow` or `ncol`. Now, to compute statistical quantities on a variable, we can use dedicated functions like `mean` (arithmetical mean), `sd` (standard deviation; see also `var`), `IQR` (interquartile range), `range` (range of values; see also `min` and `max`), or the `summary` function, which computes a five-point summary in the case of a numerical variable or a table of counts for categorical outcomes.\n",
    "\n",
    "### Univariate case\n",
    "\n",
    "Here are some applications in the case we are interested in summarizing one variable at a time:"
   ]
  },
  {
   "cell_type": "code",
   "execution_count": null,
   "metadata": {},
   "outputs": [],
   "source": [
    "mean(ToothGrowth$len)\n",
    "range(ToothGrowth$len)\n",
    "c(min(ToothGrowth$len), max(ToothGrowth$len))\n",
    "table(ToothGrowth$dose)"
   ]
  },
  {
   "cell_type": "code",
   "execution_count": null,
   "metadata": {},
   "outputs": [],
   "source": [
    "summary(ToothGrowth)"
   ]
  },
  {
   "cell_type": "markdown",
   "metadata": {},
   "source": [
    "Of course, the above functions can be applied to a subset of the original data set:"
   ]
  },
  {
   "cell_type": "code",
   "execution_count": null,
   "metadata": {},
   "outputs": [],
   "source": [
    "mean(ToothGrowth$len[ToothGrowth$dose == 1])\n",
    "table(ToothGrowth$dose[ToothGrowth$len < 20])"
   ]
  },
  {
   "cell_type": "markdown",
   "metadata": {},
   "source": [
    "### Bivariate case\n",
    "\n",
    "If we want to summarize a numerical variable according the values that a factor variable takes, we can use `tapply` or `aggregate`. The latter expects a 'formula' describing the relation between the variables we are interested in: the response variable or outcome appears on the left-hand side (LHS), while the factors or descriptors are listed in the right-hand side (RHS). The last argument to `aggregate` is the function we want to apply to each chunk of observations defined by the RHS. Here is an example of use:"
   ]
  },
  {
   "cell_type": "code",
   "execution_count": null,
   "metadata": {},
   "outputs": [],
   "source": [
    "aggregate(len ~ dose, data = ToothGrowth, mean)\n",
    "aggregate(len ~ supp + dose, data = ToothGrowth, mean)"
   ]
  },
  {
   "cell_type": "markdown",
   "metadata": {},
   "source": [
    "Note that only one function can be applied to the 'formula'. Even if it possible to write a custom function that computes the mean and standard deviation of a variable, both results will be returned as single column in the data frame returned by `aggregate`. There do exist other ways to perform such computation, though (see, e.g., the `plyr`, `dplyr` or `Hmisc` packages, to name a few), if the results are to be kept in separate variables for later. This, however, does not preclude from using `aggregate` for printing multivariate results in the console:"
   ]
  },
  {
   "cell_type": "code",
   "execution_count": null,
   "metadata": {},
   "outputs": [],
   "source": [
    "aggregate(len ~ dose, data = ToothGrowth, summary)\n",
    "f <- function(x) c(mean = mean(x), sd = sd(x))\n",
    "aggregate(len ~ dose, data = ToothGrowth, f)"
   ]
  },
  {
   "cell_type": "markdown",
   "metadata": {},
   "source": [
    "The `table` functions also works with two (or even three) variables:"
   ]
  },
  {
   "cell_type": "code",
   "execution_count": null,
   "metadata": {},
   "outputs": [],
   "source": [
    "table(ToothGrowth$dose, ToothGrowth$supp)"
   ]
  },
  {
   "cell_type": "markdown",
   "metadata": {},
   "source": [
    "If formulas are to be preferred, the `xtabs` function provides a convenient replacement for `table`:"
   ]
  },
  {
   "cell_type": "code",
   "execution_count": null,
   "metadata": {},
   "outputs": [],
   "source": [
    "xtabs(~ dose + supp, data = ToothGrowth)"
   ]
  },
  {
   "cell_type": "markdown",
   "metadata": {},
   "source": [
    "In either case, frequencies can be computed from the table of counts using `prop.table`, using the desired margin (row=1, column=2) in the bivariate case:"
   ]
  },
  {
   "cell_type": "code",
   "execution_count": null,
   "metadata": {},
   "outputs": [],
   "source": [
    "prop.table(table(ToothGrowth$dose))\n",
    "prop.table(table(ToothGrowth$dose, ToothGrowth$supp), margins = 1)"
   ]
  },
  {
   "cell_type": "markdown",
   "metadata": {},
   "source": [
    "## Practical use case: The ESS survey\n",
    "\n",
    "The `data` directory includes three [RDS](https://www.rdocumentation.org/packages/base/versions/3.5.3/topics/readRDS) files related to the [European Social Survey](https://www.europeansocialsurvey.org) (ESS). This survey first ran in 2002 (round 1), and it is actually renewed every two years. The codebook can be downloaded, along [other data sheets](http://www.europeansocialsurvey.org/data/download.html), on the main website.\n",
    "\n",
    "There are two files related to data collected in France (round 1 or rounds 1-5, `ess-*-fr.rds`) and one file for all participating countries (`ess-one-round.rds`).\n",
    "\n",
    "### French data\n",
    "\n",
    "Assuming the `data` directory is available in the current working directory, here is how we can load French data for round 1:"
   ]
  },
  {
   "cell_type": "code",
   "execution_count": null,
   "metadata": {},
   "outputs": [],
   "source": [
    "d <- readRDS(\"data/ess-one-round-fr.rds\")\n",
    "head(d[1:10])"
   ]
  },
  {
   "cell_type": "code",
   "execution_count": null,
   "metadata": {},
   "outputs": [],
   "source": [
    "table(d$yrbrn)"
   ]
  },
  {
   "cell_type": "code",
   "execution_count": null,
   "metadata": {},
   "outputs": [],
   "source": [
    "summary(d$agea)"
   ]
  },
  {
   "cell_type": "markdown",
   "metadata": {},
   "source": [
    "Let us focus on the following list of variables, readily available in the file `ess-one-round-29vars-fr.rds`:\n",
    "\n",
    "- `tvtot`: TV watching, total time on average weekday\n",
    "- `rdtot`: Radio listening, total time on average weekday\n",
    "- `nwsptot`: Newspaper reading, total time on average weekday\n",
    "- `polintr`: How interested in politics\n",
    "- `trstlgl`: Trust in the legal system\n",
    "- `trstplc`: Trust in the police\n",
    "- `trstplt`: Trust in politicians\n",
    "- `vote`: Voted last national election\n",
    "- `happy`: How happy are you\n",
    "- `sclmeet`: How often socially meet with friends, relatives or colleagues\n",
    "- `inmdisc`: Anyone to discuss intimate and personal matters with\n",
    "- `sclact`: Take part in social activities compared to others of same age\n",
    "- `health`: Subjective general health\n",
    "- `ctzcntr`: Citizen of country\n",
    "- `brncntr`: Born in country\n",
    "- `facntr`: Father born in country\n",
    "- `mocntr`: Mother born in country\n",
    "- `hhmmb`: Number of people living regularly as member of household\n",
    "- `gndr`: Gender\n",
    "- `yrbrn`: Year of birth\n",
    "- `agea`: Age of respondent, calculated\n",
    "- `edulvla`: Highest level of education\n",
    "- `eduyrs`: Years of full-time education completed\n",
    "- `pdjobyr`: Year last in paid job\n",
    "- `wrkctr`: Employment contract unlimited or limited duration\n",
    "- `wkhct`: Total contracted hours per week in main job overtime excluded\n",
    "- `marital`: Legal marital status\n",
    "- `martlfr`: Legal marital status, France\n",
    "- `lvghw`: Currently living with husband/wife\n",
    "\n",
    "### Recoded French data\n",
    "\n",
    "Note that variables in the file `ess-one-round-29vars-fr.rds` have been recoded and categorical variables now have proper labels. See the script file `scripts/ess-one-round-29vars-fr.r` to see what has been done to the base file."
   ]
  },
  {
   "cell_type": "code",
   "execution_count": null,
   "metadata": {},
   "outputs": [],
   "source": [
    "d <- readRDS(\"data/ess-one-round-29vars-fr.rds\")"
   ]
  },
  {
   "cell_type": "markdown",
   "metadata": {},
   "source": [
    "First, let us look at the distribution of the `gndr` variable, using a simple bar diagram:"
   ]
  },
  {
   "cell_type": "code",
   "execution_count": null,
   "metadata": {},
   "outputs": [],
   "source": [
    "summary(d$gndr)"
   ]
  },
  {
   "cell_type": "code",
   "execution_count": null,
   "metadata": {},
   "outputs": [],
   "source": [
    "p <- ggplot(data = d, aes(x = gndr)) +\n",
    "  geom_bar() +\n",
    "  labs(x = \"Sex of respondant\", y = \"Counts\")\n",
    "p"
   ]
  },
  {
   "cell_type": "markdown",
   "metadata": {},
   "source": [
    "Now, let's look at the distribution of age. The `ggplot2` package offer a `geom_density` function but it is also possible to draw a line using the precomputed empirical density function, or to let `ggplot2` compute the density function itself using the `stat=` option. Here is how it looks:"
   ]
  },
  {
   "cell_type": "code",
   "execution_count": null,
   "metadata": {},
   "outputs": [],
   "source": [
    "summary(d$agea)"
   ]
  },
  {
   "cell_type": "code",
   "execution_count": null,
   "metadata": {},
   "outputs": [],
   "source": [
    "p <- ggplot(data = d, aes(x = agea)) +\n",
    "  geom_line(stat = \"density\", bw = 2) +\n",
    "  labs(x = \"Age of respondant\")\n",
    "p"
   ]
  },
  {
   "cell_type": "markdown",
   "metadata": {},
   "source": [
    "The distribution of age can also be represented as an histogram, and `ggplot2` makes it quite easy to split the display depending on the sex of the respondants, which is called a 'facet' in `ggplot2` parlance:"
   ]
  },
  {
   "cell_type": "code",
   "execution_count": null,
   "metadata": {},
   "outputs": [],
   "source": [
    "p <- ggplot(data = d, aes(x = agea)) +\n",
    "  geom_histogram(binwidth = 5) +\n",
    "  facet_grid(~ gndr) +\n",
    "  labs(x = \"Age of respondant\")\n",
    "p"
   ]
  },
  {
   "cell_type": "markdown",
   "metadata": {},
   "source": [
    "Finally, a boxplot might also be an option, especially when we want to compare the distribution of a numerical variable across levels of a categorical variable. The `coord_flip` instruction is used to swap the X and Y axes, but keep in mind that `x=` and `y=` labels still refer to the `x=` and `y=` variable defined in the `aes()`:"
   ]
  },
  {
   "cell_type": "code",
   "execution_count": null,
   "metadata": {},
   "outputs": [],
   "source": [
    "p <- ggplot(data = d, aes(x = gndr, y = agea)) +\n",
    "  geom_boxplot() +\n",
    "  coord_flip() +\n",
    "  labs(x = NULL, y = \"Age of respondants\")\n",
    "p"
   ]
  },
  {
   "cell_type": "markdown",
   "metadata": {},
   "source": [
    "**Sidenote:** In the above instructions, we used the following convention to build a `ggplot2` object:\n",
    "\n",
    "- we assign to a variable, say `p`,  the call to `ggplot2` plus any further instructions ('geom', 'scale', 'coord_', etc.) using the `+` operator;\n",
    "- we use only one `aes()` structure, when calling `ggplot`, so that it makes it clear what are the data and what variables are used;\n",
    "- we display the graph at the end, by simpling calling our variable `p`.\n",
    "\n",
    "Yet, it is possible to proceed in many different ways, depending on your taste and needs. The following instructions are all valid expressions and will yield the same result:\n",
    "\n",
    "    ggplot(data = d, aes(x = gndr, y = agea, color = vote)) + geom_boxplot()\n",
    "\n",
    "    p <- ggplot(data = d, aes(x = gndr, y = agea, color = vote))\n",
    "    p <- p + geom_boxplot() + labs(x = \"Gender\")\n",
    "    p\n",
    "\n",
    "    p <- ggplot(data = d, aes(x = gndr, y = agea))\n",
    "    p + geom_boxplot(aes(color = vote)) + labs(x = \"Gender\")\n",
    "\n",
    "Moreover, it is also possible to use the quick one-liner version of `ggplot`, namely `qplot`:\n",
    "\n",
    "    qplot(x = gndr, y = agea, data = d, color = vote, geom = \"boxplot\") + labs(x = \"Gender\")\n",
    "\n",
    "or even:\n",
    "\n",
    "    qplot(x = gndr, y = agea, data = d, color = vote, geom = \"boxplot\", xlab = \"Gender\")\n",
    "    \n",
    "Further details are available in the handout \"lang-r-ggplot\"."
   ]
  },
  {
   "cell_type": "markdown",
   "metadata": {},
   "source": [
    "### Data from other countries\n",
    "\n",
    "Data from all other participating countries can be loaded in the same manner:"
   ]
  },
  {
   "cell_type": "code",
   "execution_count": null,
   "metadata": {},
   "outputs": [],
   "source": [
    "db <- readRDS(\"data/ess-one-round.rds\")\n",
    "cat(\"No. observations =\", nrow(db))\n",
    "table(db$cntry)"
   ]
  },
  {
   "cell_type": "markdown",
   "metadata": {},
   "source": [
    "Since French data are (deliberately) missing from this dataset, we can append them to the above data frame as follows: "
   ]
  },
  {
   "cell_type": "code",
   "execution_count": null,
   "metadata": {},
   "outputs": [],
   "source": [
    "db <- rbind.data.frame(db, d)\n",
    "cat(\"No. observations =\", nrow(db))"
   ]
  },
  {
   "cell_type": "code",
   "execution_count": null,
   "metadata": {},
   "outputs": [],
   "source": [
    "db$cntry <- factor(db$cntry)\n",
    "table(db$cntry)"
   ]
  },
  {
   "cell_type": "markdown",
   "metadata": {},
   "source": [
    "Remember that is also possible to use `summary()` with a factor variable to display a table of counts."
   ]
  },
  {
   "cell_type": "markdown",
   "metadata": {},
   "source": [
    "In this particular case, we are just appending a data frame to another data frame already loaded in memory. This assumes that both share the name columns, of course. Sometimes, another common operation might be performed, an 'inner join' between two data tables. For example, imagine that part of the information is spread out in one data frame, and the rest of the data sits in another data frame. If the two data frames have a common unique ID, it is then easy to merge both data frames using the `merge` command. Here is a simplified example using the above data, that we will split in two beforehand:"
   ]
  },
  {
   "cell_type": "code",
   "execution_count": null,
   "metadata": {},
   "outputs": [],
   "source": [
    "db$id <- 1:nrow(db)\n",
    "db1 <- db[,c(1:10,ncol(db))]\n",
    "db2 <- db[,c(11:(ncol(db)-1),ncol(db))]\n",
    "all <- merge(db1, db2, by = \"id\")"
   ]
  },
  {
   "cell_type": "markdown",
   "metadata": {},
   "source": [
    "In case the unique ID is spelled differently in the two data frames, it is possible to replace `by=` with `by.x=` and `by.y=`. Notice that we created a column to store the unique ID (as an integer), since it would be more difficult to use `rownames` as the key."
   ]
  }
 ],
 "metadata": {
  "kernelspec": {
   "display_name": "R",
   "language": "R",
   "name": "ir"
  },
  "language_info": {
   "codemirror_mode": "r",
   "file_extension": ".r",
   "mimetype": "text/x-r-source",
   "name": "R",
   "pygments_lexer": "r",
   "version": "3.6.0"
  }
 },
 "nbformat": 4,
 "nbformat_minor": 2
}
