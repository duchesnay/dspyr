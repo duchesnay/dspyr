{
 "cells": [
  {
   "cell_type": "markdown",
   "metadata": {},
   "source": [
    "# Introduction to R\n",
    "\n",
    "This introducion to the R language aims at understanding how to represent and manipulate data objects as commonly found in *data science*.\n",
    "\n",
    "## Installing R and RStudio\n",
    "\n",
    "The R statistical package can be installed from [CRAN](https://cran.r-project.org). Be sure to also download [RStudio](https://www.rstudio.com) as it provided a full-featured user interface to interact with R.\n",
    "\n",
    "## Useful additional packages\n",
    "\n",
    "This tutorial mainly relies on core facilities that come along so called R [base packages](https://stackoverflow.com/a/9705725). However, it is possible to install additional packages as shown below:\n",
    "\n",
    "    install.packages(\"ggplot2\")\n",
    "\n",
    "## Setup\n",
    "\n",
    "The following settings will be used in this practical:"
   ]
  },
  {
   "cell_type": "code",
   "execution_count": null,
   "metadata": {},
   "outputs": [],
   "source": [
    "library(ggplot2)\n",
    "theme_set(theme_minimal())"
   ]
  },
  {
   "cell_type": "markdown",
   "metadata": {},
   "source": [
    "## Getting started\n",
    "\n",
    "### Variables\n",
    "\n",
    "There are fundamentally two kind of data structures in statistics-oriented programming languages: numbers and strings. Numbers can be integers or real numbers and they are used to represent values observed for a continuous or discrete statistical variable, while strings are everything else that cannot be represented as numbers or list of numbers, e.g. address of a building, answer to an open-ended question in a survey, etc.\n",
    "\n",
    "Here is how we can create a simple variable, say `x`, to store a list of 5 numerical values:"
   ]
  },
  {
   "cell_type": "code",
   "execution_count": null,
   "metadata": {},
   "outputs": [],
   "source": [
    "x <- c(1, 3, 2, 5, 4)"
   ]
  },
  {
   "cell_type": "markdown",
   "metadata": {},
   "source": [
    "Note that the symbol `<-` stands for the recommended assignment operator, yet it is possible to use `=` to assign some quantity to a given variable, which appears on the left hand side of the above expression. Also, the series of values is reported between round brackets, and each values is separated by a comma. From now on, we will talk interchangeably of values or of observations as if we were talking of a measure collected on a statistical unit.\n",
    "\n",
    "Some properties of this newly created variable can be queried online, e.g. how many elements does `x` has or how those elements are represneted in R:"
   ]
  },
  {
   "cell_type": "code",
   "execution_count": null,
   "metadata": {},
   "outputs": [],
   "source": [
    "length(x)\n",
    "typeof(x)"
   ]
  },
  {
   "cell_type": "markdown",
   "metadata": {},
   "source": [
    "It should be noted that `x` contains values stored as real numbers (`double`) while they may just be stored as integers. It is however possible to ask R to use truly integer values:"
   ]
  },
  {
   "cell_type": "code",
   "execution_count": null,
   "metadata": {},
   "outputs": [],
   "source": [
    "x <- c(1L, 3L, 2L, 5L, 4L)\n",
    "typeof(x)"
   ]
  },
  {
   "cell_type": "markdown",
   "metadata": {},
   "source": [
    "# Practical use case: The ESS survey\n",
    "\n",
    "The `data` directory includes three [RDS](https://www.rdocumentation.org/packages/base/versions/3.5.3/topics/readRDS) files related to the [European Social Survey](https://www.europeansocialsurvey.org) (ESS). This survey first ran in 2002 (round 1), and it is actually renewed every two years. The codebook can be downloaded, along [other data sheets](http://www.europeansocialsurvey.org/data/download.html), on the main website.\n",
    "\n",
    "There are two files related to data collected in France (round 1 or rounds 1-5, `ess-*-fr.rds`) and one file for all participating countries (`ess-one-round.rds`).\n",
    "\n",
    "## French data\n",
    "\n",
    "Assuming the `data` directory is available in the current working directory, here is how we can load French data for round 1:"
   ]
  },
  {
   "cell_type": "code",
   "execution_count": null,
   "metadata": {},
   "outputs": [],
   "source": [
    "d <- readRDS(\"data/ess-one-round-fr.rds\")\n",
    "head(d[1:10])"
   ]
  },
  {
   "cell_type": "code",
   "execution_count": null,
   "metadata": {},
   "outputs": [],
   "source": [
    "table(d$yrbrn)"
   ]
  },
  {
   "cell_type": "code",
   "execution_count": null,
   "metadata": {},
   "outputs": [],
   "source": [
    "summary(d$agea)"
   ]
  },
  {
   "cell_type": "markdown",
   "metadata": {},
   "source": [
    "Let us focus on the following list of variables, readily available in the file `ess-one-round-29vars-fr.rds`:\n",
    "\n",
    "- `tvtot`: TV watching, total time on average weekday\n",
    "- `rdtot`: Radio listening, total time on average weekday\n",
    "- `nwsptot`: Newspaper reading, total time on average weekday\n",
    "- `polintr`: How interested in politics\n",
    "- `trstlgl`: Trust in the legal system\n",
    "- `trstplc`: Trust in the police\n",
    "- `trstplt`: Trust in politicians\n",
    "- `vote`: Voted last national election\n",
    "- `happy`: How happy are you\n",
    "- `sclmeet`: How often socially meet with friends, relatives or colleagues\n",
    "- `inmdisc`: Anyone to discuss intimate and personal matters with\n",
    "- `sclact`: Take part in social activities compared to others of same age\n",
    "- `health`: Subjective general health\n",
    "- `ctzcntr`: Citizen of country\n",
    "- `brncntr`: Born in country\n",
    "- `facntr`: Father born in country\n",
    "- `mocntr`: Mother born in country\n",
    "- `hhmmb`: Number of people living regularly as member of household\n",
    "- `gndr`: Gender\n",
    "- `yrbrn`: Year of birth\n",
    "- `agea`: Age of respondent, calculated\n",
    "- `edulvla`: Highest level of education\n",
    "- `eduyrs`: Years of full-time education completed\n",
    "- `pdjobyr`: Year last in paid job\n",
    "- `wrkctr`: Employment contract unlimited or limited duration\n",
    "- `wkhct`: Total contracted hours per week in main job overtime excluded\n",
    "- `marital`: Legal marital status\n",
    "- `martlfr`: Legal marital status, France\n",
    "- `lvghw`: Currently living with husband/wife\n",
    "\n",
    "Note that variables in the file `ess-one-round-29vars-fr.rds` have been recoded and categorical variables now have proper labels. See the script file `scripts/ess-one-round-29vars-fr.r` to see what has been done to the base file."
   ]
  },
  {
   "cell_type": "code",
   "execution_count": null,
   "metadata": {},
   "outputs": [],
   "source": [
    "d <- readRDS(\"data/ess-one-round-29vars-fr.rds\")"
   ]
  },
  {
   "cell_type": "markdown",
   "metadata": {},
   "source": [
    "First, let us look at the distribution of the `gndr` variable;"
   ]
  },
  {
   "cell_type": "code",
   "execution_count": null,
   "metadata": {},
   "outputs": [],
   "source": [
    "summary(d$gndr)"
   ]
  },
  {
   "cell_type": "code",
   "execution_count": null,
   "metadata": {},
   "outputs": [],
   "source": [
    "p <- ggplot(data = d, aes(x = gndr)) +\n",
    "  geom_bar() +\n",
    "  labs(x = \"Sex of respondant\", y = \"Counts\")\n",
    "p"
   ]
  },
  {
   "cell_type": "markdown",
   "metadata": {},
   "source": [
    "Now, let's look at the distribution of age:"
   ]
  },
  {
   "cell_type": "code",
   "execution_count": null,
   "metadata": {},
   "outputs": [],
   "source": [
    "summary(d$agea)"
   ]
  },
  {
   "cell_type": "code",
   "execution_count": null,
   "metadata": {},
   "outputs": [],
   "source": [
    "p <- ggplot(data = d, aes(x = agea)) +\n",
    "  geom_line(stat = \"density\", bw = 2) +\n",
    "  labs(x = \"Age of respondant\")\n",
    "p"
   ]
  },
  {
   "cell_type": "code",
   "execution_count": null,
   "metadata": {},
   "outputs": [],
   "source": [
    "p <- ggplot(data = d, aes(x = agea)) +\n",
    "  geom_histogram(binwidth = 5) +\n",
    "  facet_grid(~ gndr) +\n",
    "  labs(x = \"Age of respondant\")\n",
    "p"
   ]
  },
  {
   "cell_type": "code",
   "execution_count": null,
   "metadata": {},
   "outputs": [],
   "source": [
    "p <- ggplot(data = d, aes(x = gndr, y = agea)) +\n",
    "  geom_boxplot() +\n",
    "  coord_flip() +\n",
    "  labs(x = NULL, y = \"Age of respondants\")\n",
    "p"
   ]
  },
  {
   "cell_type": "markdown",
   "metadata": {},
   "source": [
    "## Data from other countries\n",
    "\n",
    "Data from all other participating countries can be loaded in the same manner:"
   ]
  },
  {
   "cell_type": "code",
   "execution_count": null,
   "metadata": {},
   "outputs": [],
   "source": [
    "db <- readRDS(\"data/ess-one-round.rds\")\n",
    "cat(\"No. observations =\", nrow(db))\n",
    "table(db$cntry)"
   ]
  },
  {
   "cell_type": "markdown",
   "metadata": {},
   "source": [
    "Since French data are (deliberately) missing from this dataset, we can append them to the above data frame as follows: "
   ]
  },
  {
   "cell_type": "code",
   "execution_count": null,
   "metadata": {},
   "outputs": [],
   "source": [
    "db <- rbind.data.frame(db, d)\n",
    "cat(\"No. observations =\", nrow(db))"
   ]
  },
  {
   "cell_type": "code",
   "execution_count": null,
   "metadata": {},
   "outputs": [],
   "source": [
    "db$cntry <- factor(db$cntry)\n",
    "table(db$cntry)"
   ]
  },
  {
   "cell_type": "markdown",
   "metadata": {},
   "source": [
    "Remember that is also possible to use `summary()` with a factor variable to display a table of counts."
   ]
  }
 ],
 "metadata": {
  "kernelspec": {
   "display_name": "R",
   "language": "R",
   "name": "ir"
  },
  "language_info": {
   "codemirror_mode": "r",
   "file_extension": ".r",
   "mimetype": "text/x-r-source",
   "name": "R",
   "pygments_lexer": "r",
   "version": "3.5.3"
  }
 },
 "nbformat": 4,
 "nbformat_minor": 2
}
