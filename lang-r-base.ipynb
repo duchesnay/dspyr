{
 "cells": [
  {
   "cell_type": "markdown",
   "metadata": {},
   "source": [
    "# Introduction to R\n",
    "\n",
    "This introducion to the R language aims at understanding how to represent and manipulate data objects as commonly found in *data science*.\n",
    "\n",
    "## Installing R and RStudio\n",
    "\n",
    "The R statistical package can be installed from [CRAN](https://cran.r-project.org). Be sure to also download [RStudio](https://www.rstudio.com) as it provided a full-featured user interface to interact with R.\n",
    "\n",
    "## Useful additional packages\n",
    "\n",
    "This tutorial mainly relies on core facilities that come along so called R [base packages](https://stackoverflow.com/a/9705725). However, it is possible to install additional packages as shown below:\n",
    "\n",
    "    install.packages(\"ggplot2\")\n",
    "\n",
    "## Getting started\n"
   ]
  },
  {
   "cell_type": "markdown",
   "metadata": {},
   "source": [
    "### Variables\n",
    "\n",
    "There are fundamentally two kind of data structures in statistics-oriented programming languages: numbers and strings. Numbers can be integers or real numbers and they are used to represent values observed for a continuous or discrete statistical variable, while strings are everything else that cannot be represented as numbers or list of numbers, e.g. address of a building, answer to an open-ended question in a survey, etc.\n",
    "\n",
    "Here is how we can create a simple variable, say `x`, to store a list of 5 numerical values:"
   ]
  },
  {
   "cell_type": "code",
   "execution_count": null,
   "metadata": {},
   "outputs": [],
   "source": [
    "x <- c(1, 3, 2, 5, 4)"
   ]
  },
  {
   "cell_type": "markdown",
   "metadata": {},
   "source": [
    "Note that the symbol `<-` stands for the recommended assignment operator, yet it is possible to use `=` to assign some quantity to a given variable, which appears on the left hand side of the above expression. Also, the series of values is reported between round brackets, and each values is separated by a comma. From now on, we will talk interchangeably of values or of observations as if we were talking of a measure collected on a statistical unit.\n",
    "\n",
    "Some properties of this newly created variable can be queried online, e.g. how many elements does `x` has or how those elements are represneted in R:"
   ]
  },
  {
   "cell_type": "code",
   "execution_count": null,
   "metadata": {},
   "outputs": [],
   "source": [
    "length(x)\n",
    "typeof(x)"
   ]
  },
  {
   "cell_type": "markdown",
   "metadata": {},
   "source": [
    "It should be noted that `x` contains values stored as real numbers (`double`) while they may just be stored as integers. It is however possible to ask R to use truly integer values:"
   ]
  },
  {
   "cell_type": "code",
   "execution_count": null,
   "metadata": {},
   "outputs": [],
   "source": [
    "x <- c(1L, 3L, 2L, 5L, 4L)\n",
    "typeof(x)"
   ]
  },
  {
   "cell_type": "markdown",
   "metadata": {},
   "source": [
    "# Practical use case: The ESS survey\n",
    "\n",
    "The `data` directory includes three [RDS](https://www.rdocumentation.org/packages/base/versions/3.5.3/topics/readRDS) files related to the [European Social Survey](https://www.europeansocialsurvey.org) (ESS). This survey first ran in 2002 (round 1), and it is actually renewed every two years. The codebook can be downloaded, along [other data sheets](http://www.europeansocialsurvey.org/data/download.html), on the main website.\n",
    "\n",
    "There are two files related to data collected in France (round 1 or rounds 1-5, `ess-*-fr.rds`) and one file for all particpating countries (`ess-one-round.rds`).\n",
    "\n",
    "## French data\n",
    "\n",
    "Assuming the `data` directory is available in the current working directory, here is how we can load French data for round 1:"
   ]
  },
  {
   "cell_type": "code",
   "execution_count": null,
   "metadata": {},
   "outputs": [],
   "source": [
    "d <- readRDS(\"data/ess-one-round-fr.rds\")\n",
    "head(d[1:10])"
   ]
  },
  {
   "cell_type": "code",
   "execution_count": null,
   "metadata": {},
   "outputs": [],
   "source": [
    "table(d$yrbrn)"
   ]
  },
  {
   "cell_type": "code",
   "execution_count": null,
   "metadata": {},
   "outputs": [],
   "source": [
    "summary(d$agea)"
   ]
  },
  {
   "cell_type": "markdown",
   "metadata": {},
   "source": [
    "Let us focus on the following list of variables:"
   ]
  },
  {
   "cell_type": "code",
   "execution_count": null,
   "metadata": {},
   "outputs": [],
   "source": [
    "vars <- c(\"tvtot\", \"rdtot\", \"nwsptot\", \"polintr\", \"trstlgl\", \"trstplc\", \"trstplt\", \"vote\",\n",
    "          \"happy\", \"sclmeet\", \"inmdisc\", \"sclact\", \"health\", \"ctzcntr\", \"brncntr\", \"facntr\",\n",
    "          \"mocntr\", \"hhmmb\", \"gndr\", \"yrbrn\", \"agea\", \"edulvla\", \"eduyrs\", \"pdjobyr\",\n",
    "          \"wrkctr\", \"wkhct\", \"marital\", \"martlfr\", \"lvghw\")\n",
    "d <- d[vars]"
   ]
  },
  {
   "cell_type": "markdown",
   "metadata": {},
   "source": [
    "If you look carefully at the data structure, you will probably notice that there's a lot of extra attributes for some variables. For example, the variable `gndr` (sex of respondent) has the following:"
   ]
  },
  {
   "cell_type": "code",
   "execution_count": null,
   "metadata": {},
   "outputs": [],
   "source": [
    "str(d$gndr)"
   ]
  },
  {
   "cell_type": "markdown",
   "metadata": {},
   "source": [
    "In this case, `gndr` is a categorical variable where numerical codes 1 and 2 stand for 'Male' and 'Female', respectively. (The extra attributes come form the fact that this dataset was preprocessed using the [haven](https://haven.tidyverse.org) package, based on an original Stata file.)\n",
    "\n",
    "Although it is primarily stored as a numerical variable (`num`), it would be more useful to convert this variable to a factor using, e.g., `factor(d$gndr, levels = c(1, 2), labels = c(\"Male\", \"Female\"))`. Below are little instructions that will take care of converting all relevant variables to factor, while discarding unnecessary information afterwards. You don't need to understand every piece of code at this stage, especially given the fact that it would be easy to use `haven`'s built-in functionalities to perform the same operations:"
   ]
  },
  {
   "cell_type": "code",
   "execution_count": null,
   "metadata": {},
   "outputs": [],
   "source": [
    "## retrieve labels when available\n",
    "for (v in vars) {\n",
    "  atr <- attr(d[[v]], \"labels\")\n",
    "  if (length(atr) > 0)\n",
    "    d[[v]] <- factor(d[[v]], levels = as.numeric(atr), labels = names(atr))\n",
    "}\n",
    "\n",
    "## discard haven/tibble attributes\n",
    "num.vars <- vars[sapply(d, is.numeric)]\n",
    "d[num.vars] <- sapply(d[num.vars], as.numeric)\n",
    "d <- as.data.frame(d)"
   ]
  },
  {
   "cell_type": "code",
   "execution_count": null,
   "metadata": {},
   "outputs": [],
   "source": [
    "summary(d$gndr)"
   ]
  },
  {
   "cell_type": "code",
   "execution_count": null,
   "metadata": {},
   "outputs": [],
   "source": [
    "library(ggplot2)\n",
    "theme_set(theme_minimal())"
   ]
  },
  {
   "cell_type": "code",
   "execution_count": null,
   "metadata": {},
   "outputs": [],
   "source": [
    "p <- ggplot(data = d, aes(x = agea)) +\n",
    "  geom_line(stat = \"density\", bw = 2) +\n",
    "  labs(x = \"Age of respondant\")\n",
    "p"
   ]
  },
  {
   "cell_type": "code",
   "execution_count": null,
   "metadata": {},
   "outputs": [],
   "source": [
    "p <- ggplot(data = d, aes(x = agea)) +\n",
    "  geom_histogram(binwidth = 5) +\n",
    "  facet_grid(~ gndr) +\n",
    "  labs(x = \"Age of respondant\")\n",
    "p"
   ]
  },
  {
   "cell_type": "markdown",
   "metadata": {},
   "source": [
    "## Data from other countries\n",
    "\n",
    "Data for all other participating countries can be loaded in the same manner:"
   ]
  },
  {
   "cell_type": "code",
   "execution_count": null,
   "metadata": {},
   "outputs": [],
   "source": [
    "db <- readRDS(\"data/ess-one-round.rds\")\n",
    "cat(\"No. observations =\", nrow(db))\n",
    "table(db$cntry)"
   ]
  },
  {
   "cell_type": "markdown",
   "metadata": {},
   "source": [
    "Since French data are (deliberately) missing from this dataset, we can append them to the above data frame as follows: "
   ]
  },
  {
   "cell_type": "code",
   "execution_count": null,
   "metadata": {},
   "outputs": [],
   "source": [
    "db <- rbind.data.frame(db, d)\n",
    "cat(\"No. observations =\", nrow(db))"
   ]
  },
  {
   "cell_type": "code",
   "execution_count": null,
   "metadata": {},
   "outputs": [],
   "source": [
    "db$cntry <- factor(db$cntry)\n",
    "table(db$cntry)"
   ]
  },
  {
   "cell_type": "markdown",
   "metadata": {},
   "source": [
    "Remember that is also possible to use `summary()` with a factor variable to display a table of counts."
   ]
  }
 ],
 "metadata": {
  "kernelspec": {
   "display_name": "R",
   "language": "R",
   "name": "ir"
  },
  "language_info": {
   "codemirror_mode": "r",
   "file_extension": ".r",
   "mimetype": "text/x-r-source",
   "name": "R",
   "pygments_lexer": "r",
   "version": "3.5.3"
  }
 },
 "nbformat": 4,
 "nbformat_minor": 2
}
